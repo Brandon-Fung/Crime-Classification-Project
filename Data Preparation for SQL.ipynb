{
 "cells": [
  {
   "cell_type": "code",
   "execution_count": null,
   "id": "4a7b040b",
   "metadata": {},
   "outputs": [],
   "source": [
    "import dask.dataframe as dd\n",
    "# Convert raw file into a dask data frame for cleaning\n",
    "df = dd.read_csv(r'B:\\NYPD_Complaint_Data_Historic.csv', dtype={'ADDR_PCT_CD': 'float64',\n",
    "       'CMPLNT_NUM': 'object',\n",
    "       'HADEVELOPT': 'object',\n",
    "       'HOUSING_PSA': 'object',\n",
    "       'JURISDICTION_CODE': 'float64',\n",
    "       'PARKS_NM': 'object',\n",
    "       'PD_CD': 'float64',\n",
    "       'STATION_NAME': 'object',\n",
    "       'X_COORD_CD': 'float64',\n",
    "       'Y_COORD_CD': 'float64'})\n",
    "\n",
    "df = df.replace(\"[,]\", \"\", regex=True)\n",
    "\n",
    "#Convert to datetime varriables\n",
    "df['CMPLNT_FR_DT'] = dd.to_datetime(df['CMPLNT_FR_DT'], format='%m/%d/%Y', errors='coerce')\n",
    "df = df.loc[df['CMPLNT_FR_DT'].dt.year >= 2000]\n",
    "df['CMPLNT_FR_TM'] = dd.to_datetime(df['CMPLNT_FR_TM'], format='%H:%M:%S', errors='coerce').dt.time\n",
    "\n",
    "df['CMPLNT_TO_DT'] = dd.to_datetime(df['CMPLNT_TO_DT'], format='%m/%d/%Y', errors='coerce')\n",
    "df = df.loc[df['CMPLNT_TO_DT'].dt.year >= 2000]\n",
    "df['CMPLNT_TO_TM'] = dd.to_datetime(df['CMPLNT_TO_TM'], format='%H:%M:%S', errors='coerce').dt.time\n",
    "\n",
    "df = df.drop_duplicates(subset = ['CMPLNT_NUM'])\n",
    "df = df.dropna(subset = ['CMPLNT_FR_DT', 'CMPLNT_FR_TM', 'CMPLNT_TO_DT', 'CMPLNT_TO_TM' ])"
   ]
  },
  {
   "cell_type": "code",
   "execution_count": null,
   "id": "80f8a161",
   "metadata": {},
   "outputs": [],
   "source": [
    "# Cleaned file to use for imports\n",
    "df.compute().to_csv(r'B:\\NYC Crime Files\\Crime.csv', index=False)"
   ]
  }
 ],
 "metadata": {
  "kernelspec": {
   "display_name": "Python 3 (ipykernel)",
   "language": "python",
   "name": "python3"
  },
  "language_info": {
   "codemirror_mode": {
    "name": "ipython",
    "version": 3
   },
   "file_extension": ".py",
   "mimetype": "text/x-python",
   "name": "python",
   "nbconvert_exporter": "python",
   "pygments_lexer": "ipython3",
   "version": "3.11.3"
  }
 },
 "nbformat": 4,
 "nbformat_minor": 5
}
